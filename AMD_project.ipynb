{
  "nbformat": 4,
  "nbformat_minor": 0,
  "metadata": {
    "colab": {
      "provenance": [],
      "collapsed_sections": [
        "mlTDs60E9aFM",
        "6vnVOrfPOoU7",
        "jLGJRYeQPULU",
        "vgJo5nhcPa3j"
      ],
      "toc_visible": true,
      "include_colab_link": true
    },
    "kernelspec": {
      "name": "python3",
      "display_name": "Python 3"
    }
  },
  "cells": [
    {
      "cell_type": "markdown",
      "metadata": {
        "id": "view-in-github",
        "colab_type": "text"
      },
      "source": [
        "<a href=\"https://colab.research.google.com/github/samuelebompani/yelp-similarity/blob/main/AMD_project.ipynb\" target=\"_parent\"><img src=\"https://colab.research.google.com/assets/colab-badge.svg\" alt=\"Open In Colab\"/></a>"
      ]
    },
    {
      "cell_type": "markdown",
      "metadata": {
        "id": "pnifhMTt9IVg"
      },
      "source": [
        "# **AMD Project**\n",
        "## Similar items\n",
        "### Samuele Bompani 984322"
      ]
    },
    {
      "cell_type": "markdown",
      "source": [
        "# *Global variables*"
      ],
      "metadata": {
        "id": "IqUuqU2PmWzm"
      }
    },
    {
      "cell_type": "code",
      "source": [
        "slow =  {\n",
        "  \"n\": 100000,\n",
        "  \"k\": 5,\n",
        "  \"h\": 100,\n",
        "  \"b\": 20\n",
        "}\n",
        "fast = {\n",
        "  \"n\": 100000,\n",
        "  \"k\": 5,\n",
        "  \"h\": 10,\n",
        "  \"b\": 5\n",
        "}\n",
        "variables = fast"
      ],
      "metadata": {
        "id": "Um9uHA-kmU5b"
      },
      "execution_count": 16,
      "outputs": []
    },
    {
      "cell_type": "markdown",
      "metadata": {
        "id": "mlTDs60E9aFM"
      },
      "source": [
        "# *Import Libraries*\n",
        "\n"
      ]
    },
    {
      "cell_type": "code",
      "metadata": {
        "id": "pYdRYx1u9FvW",
        "colab": {
          "base_uri": "https://localhost:8080/"
        },
        "outputId": "51e42f0b-f31f-4da0-d9e4-23ea59f5abff"
      },
      "source": [
        "! pip install -q pyspark\n",
        "import matplotlib.pyplot as plt\n",
        "import numpy as np\n",
        "import os\n",
        "import pandas as pd\n",
        "import json\n",
        "from google.colab import files\n",
        "import string\n",
        "import re\n",
        "import nltk\n",
        "from nltk.corpus import stopwords\n",
        "import pyspark"
      ],
      "execution_count": 17,
      "outputs": [
        {
          "output_type": "stream",
          "name": "stdout",
          "text": [
            "\u001b[2K     \u001b[90m━━━━━━━━━━━━━━━━━━━━━━━━━━━━━━━━━━━━━━━\u001b[0m \u001b[32m310.8/310.8 MB\u001b[0m \u001b[31m4.4 MB/s\u001b[0m eta \u001b[36m0:00:00\u001b[0m\n",
            "\u001b[?25h  Preparing metadata (setup.py) ... \u001b[?25l\u001b[?25hdone\n",
            "  Building wheel for pyspark (setup.py) ... \u001b[?25l\u001b[?25hdone\n"
          ]
        }
      ]
    },
    {
      "cell_type": "code",
      "source": [
        "spark = pyspark.sql.SparkSession.builder.master('local[*]').appName(\"yelp-similarity\").getOrCreate()\n",
        "sc = spark.sparkContext"
      ],
      "metadata": {
        "id": "JSsI4OsBsTip"
      },
      "execution_count": 18,
      "outputs": []
    },
    {
      "cell_type": "markdown",
      "source": [
        "# *Import the dataset*"
      ],
      "metadata": {
        "id": "6Zj81pokDDJi"
      }
    },
    {
      "cell_type": "markdown",
      "source": [
        "## *Upload the credentials*"
      ],
      "metadata": {
        "id": "6vnVOrfPOoU7"
      }
    },
    {
      "cell_type": "markdown",
      "source": [
        "Upload a file named kaggle.json with your Kaggle credentials"
      ],
      "metadata": {
        "id": "0qNq_H-IO272"
      }
    },
    {
      "cell_type": "code",
      "source": [
        "files.upload()\n",
        "print(\"ok\")"
      ],
      "metadata": {
        "colab": {
          "base_uri": "https://localhost:8080/",
          "height": 93
        },
        "id": "EbZRN7LUGbeo",
        "outputId": "566c1af8-5c6c-405a-9536-67b8d0caba3b"
      },
      "execution_count": 19,
      "outputs": [
        {
          "output_type": "display_data",
          "data": {
            "text/plain": [
              "<IPython.core.display.HTML object>"
            ],
            "text/html": [
              "\n",
              "     <input type=\"file\" id=\"files-af29fbfb-9c2d-4053-99a3-260e36f7b7d0\" name=\"files[]\" multiple disabled\n",
              "        style=\"border:none\" />\n",
              "     <output id=\"result-af29fbfb-9c2d-4053-99a3-260e36f7b7d0\">\n",
              "      Upload widget is only available when the cell has been executed in the\n",
              "      current browser session. Please rerun this cell to enable.\n",
              "      </output>\n",
              "      <script>// Copyright 2017 Google LLC\n",
              "//\n",
              "// Licensed under the Apache License, Version 2.0 (the \"License\");\n",
              "// you may not use this file except in compliance with the License.\n",
              "// You may obtain a copy of the License at\n",
              "//\n",
              "//      http://www.apache.org/licenses/LICENSE-2.0\n",
              "//\n",
              "// Unless required by applicable law or agreed to in writing, software\n",
              "// distributed under the License is distributed on an \"AS IS\" BASIS,\n",
              "// WITHOUT WARRANTIES OR CONDITIONS OF ANY KIND, either express or implied.\n",
              "// See the License for the specific language governing permissions and\n",
              "// limitations under the License.\n",
              "\n",
              "/**\n",
              " * @fileoverview Helpers for google.colab Python module.\n",
              " */\n",
              "(function(scope) {\n",
              "function span(text, styleAttributes = {}) {\n",
              "  const element = document.createElement('span');\n",
              "  element.textContent = text;\n",
              "  for (const key of Object.keys(styleAttributes)) {\n",
              "    element.style[key] = styleAttributes[key];\n",
              "  }\n",
              "  return element;\n",
              "}\n",
              "\n",
              "// Max number of bytes which will be uploaded at a time.\n",
              "const MAX_PAYLOAD_SIZE = 100 * 1024;\n",
              "\n",
              "function _uploadFiles(inputId, outputId) {\n",
              "  const steps = uploadFilesStep(inputId, outputId);\n",
              "  const outputElement = document.getElementById(outputId);\n",
              "  // Cache steps on the outputElement to make it available for the next call\n",
              "  // to uploadFilesContinue from Python.\n",
              "  outputElement.steps = steps;\n",
              "\n",
              "  return _uploadFilesContinue(outputId);\n",
              "}\n",
              "\n",
              "// This is roughly an async generator (not supported in the browser yet),\n",
              "// where there are multiple asynchronous steps and the Python side is going\n",
              "// to poll for completion of each step.\n",
              "// This uses a Promise to block the python side on completion of each step,\n",
              "// then passes the result of the previous step as the input to the next step.\n",
              "function _uploadFilesContinue(outputId) {\n",
              "  const outputElement = document.getElementById(outputId);\n",
              "  const steps = outputElement.steps;\n",
              "\n",
              "  const next = steps.next(outputElement.lastPromiseValue);\n",
              "  return Promise.resolve(next.value.promise).then((value) => {\n",
              "    // Cache the last promise value to make it available to the next\n",
              "    // step of the generator.\n",
              "    outputElement.lastPromiseValue = value;\n",
              "    return next.value.response;\n",
              "  });\n",
              "}\n",
              "\n",
              "/**\n",
              " * Generator function which is called between each async step of the upload\n",
              " * process.\n",
              " * @param {string} inputId Element ID of the input file picker element.\n",
              " * @param {string} outputId Element ID of the output display.\n",
              " * @return {!Iterable<!Object>} Iterable of next steps.\n",
              " */\n",
              "function* uploadFilesStep(inputId, outputId) {\n",
              "  const inputElement = document.getElementById(inputId);\n",
              "  inputElement.disabled = false;\n",
              "\n",
              "  const outputElement = document.getElementById(outputId);\n",
              "  outputElement.innerHTML = '';\n",
              "\n",
              "  const pickedPromise = new Promise((resolve) => {\n",
              "    inputElement.addEventListener('change', (e) => {\n",
              "      resolve(e.target.files);\n",
              "    });\n",
              "  });\n",
              "\n",
              "  const cancel = document.createElement('button');\n",
              "  inputElement.parentElement.appendChild(cancel);\n",
              "  cancel.textContent = 'Cancel upload';\n",
              "  const cancelPromise = new Promise((resolve) => {\n",
              "    cancel.onclick = () => {\n",
              "      resolve(null);\n",
              "    };\n",
              "  });\n",
              "\n",
              "  // Wait for the user to pick the files.\n",
              "  const files = yield {\n",
              "    promise: Promise.race([pickedPromise, cancelPromise]),\n",
              "    response: {\n",
              "      action: 'starting',\n",
              "    }\n",
              "  };\n",
              "\n",
              "  cancel.remove();\n",
              "\n",
              "  // Disable the input element since further picks are not allowed.\n",
              "  inputElement.disabled = true;\n",
              "\n",
              "  if (!files) {\n",
              "    return {\n",
              "      response: {\n",
              "        action: 'complete',\n",
              "      }\n",
              "    };\n",
              "  }\n",
              "\n",
              "  for (const file of files) {\n",
              "    const li = document.createElement('li');\n",
              "    li.append(span(file.name, {fontWeight: 'bold'}));\n",
              "    li.append(span(\n",
              "        `(${file.type || 'n/a'}) - ${file.size} bytes, ` +\n",
              "        `last modified: ${\n",
              "            file.lastModifiedDate ? file.lastModifiedDate.toLocaleDateString() :\n",
              "                                    'n/a'} - `));\n",
              "    const percent = span('0% done');\n",
              "    li.appendChild(percent);\n",
              "\n",
              "    outputElement.appendChild(li);\n",
              "\n",
              "    const fileDataPromise = new Promise((resolve) => {\n",
              "      const reader = new FileReader();\n",
              "      reader.onload = (e) => {\n",
              "        resolve(e.target.result);\n",
              "      };\n",
              "      reader.readAsArrayBuffer(file);\n",
              "    });\n",
              "    // Wait for the data to be ready.\n",
              "    let fileData = yield {\n",
              "      promise: fileDataPromise,\n",
              "      response: {\n",
              "        action: 'continue',\n",
              "      }\n",
              "    };\n",
              "\n",
              "    // Use a chunked sending to avoid message size limits. See b/62115660.\n",
              "    let position = 0;\n",
              "    do {\n",
              "      const length = Math.min(fileData.byteLength - position, MAX_PAYLOAD_SIZE);\n",
              "      const chunk = new Uint8Array(fileData, position, length);\n",
              "      position += length;\n",
              "\n",
              "      const base64 = btoa(String.fromCharCode.apply(null, chunk));\n",
              "      yield {\n",
              "        response: {\n",
              "          action: 'append',\n",
              "          file: file.name,\n",
              "          data: base64,\n",
              "        },\n",
              "      };\n",
              "\n",
              "      let percentDone = fileData.byteLength === 0 ?\n",
              "          100 :\n",
              "          Math.round((position / fileData.byteLength) * 100);\n",
              "      percent.textContent = `${percentDone}% done`;\n",
              "\n",
              "    } while (position < fileData.byteLength);\n",
              "  }\n",
              "\n",
              "  // All done.\n",
              "  yield {\n",
              "    response: {\n",
              "      action: 'complete',\n",
              "    }\n",
              "  };\n",
              "}\n",
              "\n",
              "scope.google = scope.google || {};\n",
              "scope.google.colab = scope.google.colab || {};\n",
              "scope.google.colab._files = {\n",
              "  _uploadFiles,\n",
              "  _uploadFilesContinue,\n",
              "};\n",
              "})(self);\n",
              "</script> "
            ]
          },
          "metadata": {}
        },
        {
          "output_type": "stream",
          "name": "stdout",
          "text": [
            "Saving kaggle.json to kaggle.json\n",
            "ok\n"
          ]
        }
      ]
    },
    {
      "cell_type": "code",
      "source": [
        "! mkdir ~/.kaggle\n",
        "\n",
        "! mv kaggle.json ~/.kaggle/ #copying kaggle.json\n",
        "\n",
        "! chmod 600 ~/.kaggle/kaggle.json #reading the file with full access"
      ],
      "metadata": {
        "id": "aS1dNqusGqgt"
      },
      "execution_count": 20,
      "outputs": []
    },
    {
      "cell_type": "markdown",
      "source": [
        "## *Download the dataset*"
      ],
      "metadata": {
        "id": "jLGJRYeQPULU"
      }
    },
    {
      "cell_type": "code",
      "source": [
        "! kaggle datasets download -f yelp_academic_dataset_review.json -d yelp-dataset/yelp-dataset #downloading the compatition dataset\n",
        "! unzip -n yelp_academic_dataset_review.json.zip"
      ],
      "metadata": {
        "id": "bQgd0tUIHmNz",
        "colab": {
          "base_uri": "https://localhost:8080/"
        },
        "outputId": "8dcef28b-8b4a-4bf4-9c9b-ae0ee67c8f0e"
      },
      "execution_count": 21,
      "outputs": [
        {
          "output_type": "stream",
          "name": "stdout",
          "text": [
            "Downloading yelp_academic_dataset_review.json.zip to /content\n",
            "100% 2.06G/2.07G [00:24<00:00, 119MB/s]\n",
            "100% 2.07G/2.07G [00:25<00:00, 88.8MB/s]\n",
            "Archive:  yelp_academic_dataset_review.json.zip\n",
            "  inflating: yelp_academic_dataset_review.json  \n"
          ]
        }
      ]
    },
    {
      "cell_type": "markdown",
      "source": [
        "## *Open the dataset file*"
      ],
      "metadata": {
        "id": "vgJo5nhcPa3j"
      }
    },
    {
      "cell_type": "code",
      "source": [
        "# Set the dimension of the subset\n",
        "n_rows = variables.get(\"n\")\n",
        "data_spark = spark.read.json(\"yelp_academic_dataset_review.json\").limit(n_rows)\n",
        "data_spark.printSchema()"
      ],
      "metadata": {
        "id": "5wvTnZYAsmrG",
        "colab": {
          "base_uri": "https://localhost:8080/"
        },
        "outputId": "0581d1a0-ae99-446a-c651-27dd280a3373"
      },
      "execution_count": 22,
      "outputs": [
        {
          "output_type": "stream",
          "name": "stdout",
          "text": [
            "root\n",
            " |-- business_id: string (nullable = true)\n",
            " |-- cool: long (nullable = true)\n",
            " |-- date: string (nullable = true)\n",
            " |-- funny: long (nullable = true)\n",
            " |-- review_id: string (nullable = true)\n",
            " |-- stars: double (nullable = true)\n",
            " |-- text: string (nullable = true)\n",
            " |-- useful: long (nullable = true)\n",
            " |-- user_id: string (nullable = true)\n",
            "\n"
          ]
        }
      ]
    },
    {
      "cell_type": "markdown",
      "source": [
        "# *Finding similar items*"
      ],
      "metadata": {
        "id": "bZLMVVA7a8HX"
      }
    },
    {
      "cell_type": "code",
      "source": [
        "nltk.download('stopwords')"
      ],
      "metadata": {
        "colab": {
          "base_uri": "https://localhost:8080/"
        },
        "id": "vMC1SA7OklSs",
        "outputId": "262dfef8-b540-45f6-8837-43f6e655074b"
      },
      "execution_count": 23,
      "outputs": [
        {
          "output_type": "stream",
          "name": "stderr",
          "text": [
            "[nltk_data] Downloading package stopwords to /root/nltk_data...\n",
            "[nltk_data]   Unzipping corpora/stopwords.zip.\n"
          ]
        },
        {
          "output_type": "execute_result",
          "data": {
            "text/plain": [
              "True"
            ]
          },
          "metadata": {},
          "execution_count": 23
        }
      ]
    },
    {
      "cell_type": "markdown",
      "source": [
        "## Reduce text to tokens"
      ],
      "metadata": {
        "id": "IVg7akPAA4yz"
      }
    },
    {
      "cell_type": "markdown",
      "source": [
        "### K-shingles"
      ],
      "metadata": {
        "id": "TTUa_SdJq8oP"
      }
    },
    {
      "cell_type": "code",
      "source": [
        "def k_shingles(text, k):\n",
        "  shingles = []\n",
        "  ks_string = \" \".join(text)\n",
        "  for i in range(len(ks_string)-k+1):\n",
        "    shingles.append(ks_string[i:(i+k)])\n",
        "  return shingles"
      ],
      "metadata": {
        "id": "njotcAX0q7Sc"
      },
      "execution_count": 24,
      "outputs": []
    },
    {
      "cell_type": "markdown",
      "source": [
        "### Tokenization and stopwords removal"
      ],
      "metadata": {
        "id": "mnzSr69Wtr48"
      }
    },
    {
      "cell_type": "code",
      "source": [
        "sw = stopwords.words('english')\n",
        "\n",
        "# Remove whitespaces and punctuation\n",
        "def normalize_text(text):\n",
        "  return text.lower().translate(str.maketrans('', '', string.punctuation))\n",
        "\n",
        "def tokenize_text(text):\n",
        "  filtered = []\n",
        "  for w in normalize_text(text).split():\n",
        "    # Remove stop words\n",
        "    if w not in sw:\n",
        "      filtered.append(w)\n",
        "  # Apply k-shingles\n",
        "  return k_shingles(filtered, variables.get(\"k\"))"
      ],
      "metadata": {
        "id": "vUWeBM4G2Tgq"
      },
      "execution_count": 25,
      "outputs": []
    },
    {
      "cell_type": "code",
      "source": [
        "data_rep = data_spark.repartition(\"text\")\n",
        "data_sel = data_rep.select(data_rep.text)\n",
        "text_w_index = data_sel.rdd.map(lambda x: x.text).zipWithIndex()\n",
        "# Apply the previous defined functions\n",
        "tuples = text_w_index.flatMap(lambda x: map(lambda y: (y, x[1]), tokenize_text(x[0])))"
      ],
      "metadata": {
        "id": "xRLBY7j9Ksir"
      },
      "execution_count": 26,
      "outputs": []
    },
    {
      "cell_type": "markdown",
      "source": [
        "## Minhash"
      ],
      "metadata": {
        "id": "vQNZB--PbAl4"
      }
    },
    {
      "cell_type": "markdown",
      "source": [
        "### Group touples by words"
      ],
      "metadata": {
        "id": "pHgu_4X02ZZL"
      }
    },
    {
      "cell_type": "code",
      "source": [
        "# Create tuples with the shape: (ns, [sd1, sd2, ...])\n",
        "# with ns = number associated to a shingle s\n",
        "# and  sdi = number associated to the document i, if s is present in it\n",
        "grouped_tuples = tuples.groupByKey().zipWithIndex().map(lambda x: (x[1], x[0][1]))"
      ],
      "metadata": {
        "id": "RHZm53GB2Yy7"
      },
      "execution_count": 27,
      "outputs": []
    },
    {
      "cell_type": "markdown",
      "source": [
        "### Count the tokens"
      ],
      "metadata": {
        "id": "Y7uBUVgB4NkX"
      }
    },
    {
      "cell_type": "code",
      "source": [
        "token_count = grouped_tuples.count()\n",
        "print(\"Number of distinct shingles: \"+str(token_count))"
      ],
      "metadata": {
        "id": "wsJTUFca4Rb6",
        "colab": {
          "base_uri": "https://localhost:8080/"
        },
        "outputId": "b25acecc-a72f-4b2c-de3d-9a2bb801091e"
      },
      "execution_count": 28,
      "outputs": [
        {
          "output_type": "stream",
          "name": "stdout",
          "text": [
            "Number of distinct shingles: 418945\n"
          ]
        }
      ]
    },
    {
      "cell_type": "markdown",
      "source": [
        "### Hash functions creation"
      ],
      "metadata": {
        "id": "ja68_YRX4qM_"
      }
    },
    {
      "cell_type": "code",
      "source": [
        "# Number of hash function\n",
        "n_hash = variables.get(\"h\")"
      ],
      "metadata": {
        "id": "e5XwUvxVPt4_"
      },
      "execution_count": 29,
      "outputs": []
    },
    {
      "cell_type": "code",
      "source": [
        "import random as rd\n",
        "def h(a, b):\n",
        "  def new_h(x):\n",
        "    return (a * x + b) % token_count\n",
        "  return new_h\n",
        "\n",
        "hash_list = []\n",
        "for i in range(n_hash):\n",
        "  # a and b are two (pseudo)random numbers\n",
        "  hash_list.append(h(rd.randint(0,token_count), rd.randint(0,token_count)))"
      ],
      "metadata": {
        "id": "ne-o6SypO6Cr"
      },
      "execution_count": 30,
      "outputs": []
    },
    {
      "cell_type": "code",
      "source": [],
      "metadata": {
        "id": "YjpF8UJrU8g8"
      },
      "execution_count": null,
      "outputs": []
    },
    {
      "cell_type": "markdown",
      "source": [
        "### Apply hash functions"
      ],
      "metadata": {
        "id": "eF-oHzQqW8cq"
      }
    },
    {
      "cell_type": "code",
      "source": [
        "def seqOpHash(d, x):\n",
        "  for i, h in enumerate(hash_list):\n",
        "    # apply the hash function h\n",
        "    val = h(x[0])\n",
        "    for j in x[1]:\n",
        "      # keys for d are tuples with this shape:\n",
        "      # (number of the hash function, number of the document)\n",
        "      if (i, j) not in d:\n",
        "        d[(i, j)] = val\n",
        "      else:\n",
        "        if(val < d.get((i, j))):\n",
        "          d[(i, j)] = val\n",
        "  return d\n",
        "\n",
        "def combOpHash(x, y):\n",
        "  return y\n",
        "\n",
        "# Apply the minhash algorithm\n",
        "min_hash = grouped_tuples.aggregate({}, seqOpHash, combOpHash)"
      ],
      "metadata": {
        "id": "ucWGvm8IoUhK"
      },
      "execution_count": 31,
      "outputs": []
    },
    {
      "cell_type": "markdown",
      "source": [
        "### Extract the vectors"
      ],
      "metadata": {
        "id": "b8I07aFHXGrT"
      }
    },
    {
      "cell_type": "code",
      "source": [
        "par = []\n",
        "for i in min_hash:\n",
        "  par.append((i, min_hash[i]))\n",
        "d = sc.parallelize(par)"
      ],
      "metadata": {
        "id": "o_icb_2d5Gs-"
      },
      "execution_count": 32,
      "outputs": []
    },
    {
      "cell_type": "code",
      "source": [
        "grouped = d.groupBy(lambda x: x[0][1])\n",
        "# Create the similarity matrix\n",
        "vecs = grouped.map(lambda x: (x[0], list(map(lambda y: y[1], x[1]))))"
      ],
      "metadata": {
        "id": "gPgbwOpWaUwl"
      },
      "execution_count": 33,
      "outputs": []
    },
    {
      "cell_type": "markdown",
      "source": [
        "## LSH"
      ],
      "metadata": {
        "id": "1oK6UZ_Zcha0"
      }
    },
    {
      "cell_type": "markdown",
      "source": [
        "### Trashold choice"
      ],
      "metadata": {
        "id": "1LdJl1wWeApk"
      }
    },
    {
      "cell_type": "code",
      "source": [
        "b = variables.get(\"b\")\n",
        "r = int(n_hash/b)\n",
        "t = (1/b)**(1/r)\n",
        "print(\"b: \", b, \"\\nr: \", r, \"\\nt: \", round(t, 4))"
      ],
      "metadata": {
        "colab": {
          "base_uri": "https://localhost:8080/"
        },
        "id": "6UaZ5SUYcgO5",
        "outputId": "20c22b8f-6525-401a-82de-26f4a8e67454"
      },
      "execution_count": 82,
      "outputs": [
        {
          "output_type": "stream",
          "name": "stdout",
          "text": [
            "b:  20 \n",
            "r:  5 \n",
            "t:  0.5493\n"
          ]
        }
      ]
    },
    {
      "cell_type": "markdown",
      "source": [
        "### Split vectors"
      ],
      "metadata": {
        "id": "MHZUJ5auhZk8"
      }
    },
    {
      "cell_type": "code",
      "source": [
        "def split_vector(vec):\n",
        "  sub_vecs = []\n",
        "  for i in range(0, len(vec), r):\n",
        "    sub_vecs.append(str(vec[i : i+r]))\n",
        "  return sub_vecs"
      ],
      "metadata": {
        "id": "qzzTCs0kdlHd"
      },
      "execution_count": 59,
      "outputs": []
    },
    {
      "cell_type": "markdown",
      "source": [
        "### Candidate pairs identification"
      ],
      "metadata": {
        "id": "ix81dCX_ij1Q"
      }
    },
    {
      "cell_type": "code",
      "source": [
        "def seqOp(x, y):\n",
        "  for i, s in enumerate(y[1]):\n",
        "    if s not in x[i].keys():\n",
        "      x[i][s] = [y[0]]\n",
        "    else:\n",
        "      x[i][s].append(y[0])\n",
        "  return x\n",
        "\n",
        "def combOp(x, y):\n",
        "  return y\n",
        "\n",
        "subv = vecs.map(lambda x: (x[0], split_vector(x[1])))\n",
        "# Populate the buckets\n",
        "bucks = subv.aggregate(([{}]*b), seqOp, combOp)"
      ],
      "metadata": {
        "id": "W3-_3NjEyDJm"
      },
      "execution_count": 60,
      "outputs": []
    },
    {
      "cell_type": "code",
      "source": [
        "from itertools import combinations\n",
        "\n",
        "def find_candidates(buckets):\n",
        "  candidates = []\n",
        "  for bucket in buckets:\n",
        "    for h in bucket.keys():\n",
        "      if len(bucket[h]) > 1:\n",
        "        for pair in combinations(bucket[h], 2):\n",
        "          candidates.append(pair)\n",
        "  return candidates"
      ],
      "metadata": {
        "id": "trrfBSTNO1g_"
      },
      "execution_count": 61,
      "outputs": []
    },
    {
      "cell_type": "code",
      "source": [
        "candidates = sc.parallelize(find_candidates(bucks)).distinct()"
      ],
      "metadata": {
        "id": "DSaHPsbDP1Gk"
      },
      "execution_count": 62,
      "outputs": []
    },
    {
      "cell_type": "markdown",
      "source": [
        "### Filter by the trashold"
      ],
      "metadata": {
        "id": "VuquqiijRwph"
      }
    },
    {
      "cell_type": "code",
      "source": [
        "vs = vecs.collect()\n",
        "\n",
        "def agree(x, y):\n",
        "  intersection = 0\n",
        "  for i, el in enumerate(x):\n",
        "    if(y[i] == el):\n",
        "      intersection += 1\n",
        "  return intersection / len(x)\n",
        "\n",
        "def compare(x, y):\n",
        "  vx = list(filter(lambda i: i[0]==x, vs))[0][1]\n",
        "  vy = list(filter(lambda i: i[0]==y, vs))[0][1]\n",
        "  return (x, y, agree(vx, vy))\n",
        "\n",
        "candidates_agr = candidates.map(lambda x: compare(x[0], x[1]))"
      ],
      "metadata": {
        "id": "ln9yaA8hI4U0"
      },
      "execution_count": 63,
      "outputs": []
    },
    {
      "cell_type": "code",
      "source": [
        "filtered_candidates = candidates_agr.filter(lambda x: (x[2] > t)).collect()"
      ],
      "metadata": {
        "id": "1k7bvVjkK-Sx"
      },
      "execution_count": 64,
      "outputs": []
    },
    {
      "cell_type": "markdown",
      "source": [
        "# *Evaluation*"
      ],
      "metadata": {
        "id": "yVJjtnmmjKF1"
      }
    },
    {
      "cell_type": "markdown",
      "source": [
        "## Jaccard similarity"
      ],
      "metadata": {
        "id": "8Q6_uc6XjXK_"
      }
    },
    {
      "cell_type": "code",
      "source": [
        "def jaccard(x, y):\n",
        "  xs = set(x)\n",
        "  xy = set(y)\n",
        "  intersection = len(xs.intersection(xy))\n",
        "  union = len(xs.union(xy))\n",
        "  if union == 0:\n",
        "    return 0\n",
        "  return intersection/union\n"
      ],
      "metadata": {
        "id": "XjinSO6uplVA"
      },
      "execution_count": 45,
      "outputs": []
    },
    {
      "cell_type": "markdown",
      "source": [
        "##"
      ],
      "metadata": {
        "id": "qDtqYVWWjaxa"
      }
    },
    {
      "cell_type": "code",
      "source": [
        "texts = text_w_index.map(lambda x: (x[1], x[0])).collectAsMap()\n",
        "errors = []\n",
        "jac_values= []\n",
        "for i in filtered_candidates:\n",
        "  x = texts.get(i[0])\n",
        "  y = texts.get(i[1])\n",
        "  j = jaccard(tokenize_text(x),\n",
        "        tokenize_text(y))\n",
        "  errors.append(abs(i[2]-j))\n",
        "  jac_values.append(j)\n",
        "  print(\"1- \",x,\"\\n2-\",y,\"\\n\\nJACCARD:\",j,\"\\nESTIMATION\",i[2],\"\\n\")"
      ],
      "metadata": {
        "id": "9tUTDZiXp5xi",
        "colab": {
          "base_uri": "https://localhost:8080/"
        },
        "outputId": "db567605-96dc-4257-cb97-51488b9c43ef"
      },
      "execution_count": 65,
      "outputs": [
        {
          "output_type": "stream",
          "name": "stdout",
          "text": [
            "1-  I gave up eating meat but I get cravings for burgers. I'm so happy I found the  black bean burger. It's so good, chargrilled and you can add any toppings as you would for the beef burgers.\n",
            "I've had it 3 times and have not been disappointed. It's a pretty big burger and with fries on the side it's a great lunch for about $8. \n",
            "2- I gave up eating meat but I get cravings for burgers. I'm so happy I found the  black bean burger. It's so good, chargrilled and you can add any toppings as you would for the beef burgers.\n",
            "I've had it 3 times and have not been disappointed. It's a pretty big burger and with fries on the side it's a great lunch for about $8. \n",
            "\n",
            "JACCARD: 1.0 \n",
            "ESTIMATION 1.0 \n",
            "\n",
            "1-  Wow, absolutely amazing.  We had the caprese salad, the Diavalo and Bianca pizzas and everything was outstanding. We will definitely be back. \n",
            "\n",
            "Update 7/8. We came back and it was more \"glorious\" (term my GF required I use) than previous visits.  Arturo our waiter is fantastic and Scott really takes care of his clients. \n",
            "\n",
            "Update 7/10. Scott......you have achieve Pizza God status. \"We're not worthy!\"\n",
            "\n",
            "Update 7/31 Scotty.....awesome as usual\n",
            "\n",
            "Update 8/14 I didn't think it was possible but the pizza keeps getting better. \n",
            "2- Wow, absolutely amazing.  We had the caprese salad, the Diavalo and Bianca pizzas and everything was outstanding. We will definitely be back. \n",
            "\n",
            "Update 7/8. We came back and it was more \"glorious\" (term my GF required I use) than previous visits.  Arturo our waiter is fantastic and Scott really takes care of his clients. \n",
            "\n",
            "JACCARD: 0.6432926829268293 \n",
            "ESTIMATION 0.64 \n",
            "\n",
            "1-  I tried this place for takeout last night. I called in and they said 30 min but it took almost an hour for them to get my food ready. I was not impressed with the lamb curry it was runny and just not what I was expecting. I have eaten indian food all over the PNW and I wouldn't eat here again.The owners were nice they did try and gave me tea while I waited but I don't think I would eat here again. \n",
            "2- I tried this place for takeout last night. I called in and they said 30 min but it took almost an hour for them to get my food ready. I was not impressed with the lamb curry it was runny and just not what I was expecting for the price which was high. I have eaten indian food all over the PNW and I wouldn't eat here again.The owners were nice they did try and gave me tea while I waited but I don't think I would eat here again. \n",
            "\n",
            "JACCARD: 0.9227272727272727 \n",
            "ESTIMATION 0.89 \n",
            "\n",
            "1-  I will first start by saying that the service here is some of the best I've ever had. Friendly, knowledgable and there for anything you ask for immediately without being over bearing.\n",
            "Now to the food, we started off with the antipasto, a weekend special, and it was amazing. Prosciutto, mortadella, sharp provolone, stuffed peppers and many other thing, marinated in a delicious oil, it was perfect. \n",
            "I got the porterhouse steak special next topped with Gorgonzola and an amazing steak sauce. Cooked veggies and mashed potatoes on the side, it was perfectly cooked and everything went perfect with the next thing. My girlfriend got the lasagna which had the best mozzarella cheese I've had, and the sauce was also amazing. \n",
            "We got the Tierra massou finally and that was perfect as well. \n",
            "Between the perfect food and the great service I would highly recommend this place to anyone. \n",
            "2- I will first start by saying that the service here is some of the best I've ever had. Friendly, knowledgable and there for anything you ask for immediately without being over bearing.\n",
            "Now to the food, we started off with the antipasto, a weekend special, and it was amazing. Prosciutto, mortadella, sharp provolone, stuffed peppers and many other things, marinated in a delicious oil, it was perfect. \n",
            "I got the porterhouse steak special next topped with Gorgonzola and an amazing steak sauce. Cooked veggies and mashed potatoes on the side, it was perfectly cooked and everything went perfect with the next thing. My girlfriend got the lasagna which had the best mozzarella cheese I've had, and the sauce was also amazing. \n",
            "We got the Tierra massou finally and that was perfect as well. \n",
            "Between the perfect food and the great service I would highly recommend this place to anyone. \n",
            "\n",
            "JACCARD: 0.9840637450199203 \n",
            "ESTIMATION 0.98 \n",
            "\n",
            "1-  While I was moving in and had all my stuff on my patio the inspector left a note that was threatening :\n",
            "Stating I had inappropriate items on my patio \n",
            "Trash left out \n",
            "EXCUSE me but I was moving !!!!!!\n",
            "So I went to the office and a woman named Deborah helped me ..\n",
            "Very condescending .. Acted like I had no right to complain about my note...\n",
            "Then I asked for a copy of my lease.. Oops again .... \n",
            "We're sorry you can't have that it's under lock and key!!! WHAT!!!!!\n",
            "This volley of info and rudeness continued until she came out and said they were closing the office for the night!!\n",
            "WOW what a difference from my rental I'm Asheville NC.. Friendly clean always remembered who we were even though it was a huge complex..\n",
            "Ohhh , they will be friendly when you are looking but once you sign the dotted line ....not so great!!!!\n",
            "You're just a number , you mean nothing to SENTINAL CORP believe me or they would have a nicer staff and wouldn't have to threaten you when your trying to get all your stuff put away!!!! \n",
            "2- While I was moving in and had all my stuff on my patio the inspector left a note that was threatening :\n",
            "Stating I had inappropriate items on my patio \n",
            "Trash left out \n",
            "EXCUSE me but I was moving !!!!!!\n",
            "So I went to the office and a woman named Deborah helped me ..\n",
            "Very condescending .. Acted like I had no right to complain about my note...\n",
            "Then I asked for a copy of my lease.. Oops again .... \n",
            "We're sorry you can't have that it's under lock and key!!! WHAT!!!!!\n",
            "This volley of info and rudeness continued until she came out and said they were closing the office for the night!!\n",
            "WOW what a difference from my rental I'm Asheville NC.. Friendly clean always remembered who we were even though it was a huge complex..\n",
            "Ohhh , they will be friendly when you are looking but once you sign the dotted line ....not so great!!!!\n",
            "You're just a number , you mean nothing to SENTINAL CORP believe me or they would have a nicer staff and wouldn't have to threaten you when your trying to get all your stuff put away!!!! \n",
            "\n",
            "JACCARD: 1.0 \n",
            "ESTIMATION 1.0 \n",
            "\n",
            "1-  An upscale mexican joint? Really?! I enjoy good authentic mexican food, this is by far the most upscale Ive seen.  Im more of the food trucks and hole in the walls type, so this was different than what Im used to. \n",
            "\n",
            "The atmosphere at Besito is tough to beat. They have Merengue & Salsa on the background which doesn't really go with the Mexican theme but who's paying attention. An ideal Date night atmosphere for sure. \n",
            "\n",
            "Food here is fantastic. A little pricey, but you get your money's worth. You have the ($3) valet outside, great service, waiters have always been friendly and happy to discuss the menu, Besito more than met our expectations. \n",
            "\n",
            "If you love Mexican food, and feel like taking it to another level for once, Besito is your place. It's a gourmet mexican restaurant, certainly worth trying. \n",
            "2- An upscale mexican joint? Really?! I enjoy good authentic mexican food, this is by far the most upscale Ive seen.  Im more of the food trucks and hole in the walls type, so this was different than what Im used to. \n",
            "\n",
            "The atmosphere at Besito is tough to beat. They have Merengue & Salsa on the background which doesn't really go with the Mexican theme but who's paying attention. An ideal Date night atmosphere for sure. \n",
            "\n",
            "Food was very good but I must say a bit on the pricey side, you have to consider the fact that you are paying for more than a meal... You have the valet outside, truly great service, our waiter was friendly and happy to discuss the menu, he more than met our expectations. \n",
            "\n",
            "Guess if you and your date love Mexican food, and feel like taking it to another level for once, Besito is your place. It's a gourmet mexican restaurant, certainly worth trying. \n",
            "\n",
            "JACCARD: 0.74487895716946 \n",
            "ESTIMATION 0.81 \n",
            "\n",
            "1-  I was going to order delivery but the guy on the phone convinced me there was a very long wait time of 45 minutes to an hour then asked if I was sure I wanted to order. So I'll take my business elsewhere. But I hear the food is really good. \n",
            "2- I was going to order delivery but the guy on the phone convinced me there was a very long wait time of 45 minutes to an hour then asked if I was sure I wanted to order. So I'll take my business elsewhere. But I hear the food is really good. \n",
            "\n",
            "JACCARD: 1.0 \n",
            "ESTIMATION 1.0 \n",
            "\n",
            "1-  Go to a traditional ramen place instead! This place is overrated. I don't get how people love this place. Don't waste your money or time here.\n",
            "\n",
            "I had the miso ramen and it was sweet! I never had sweet miso broth before. The sweetness drowned out the miso flavor. Even the pork shoulder had a sweet glaze on it that did not appeal to me and I didn't bother to finish the pork shoulder. The noodles were hard, clumped together and I didn't get enough broth with my ramen. Good thing I was very hungry, otherwise I wouldn't have finished eating the miso ramen. \n",
            "\n",
            "This place is also expensive for Philly. The miso ramen is $14. This is Philly not NYC. I have paid ~$15 for good ramen in NYC. \n",
            "\n",
            "I also had an unimpressive sangria...small glass filled with mostly ice for $10. \n",
            "\n",
            "The decorative lights made it feel like it was Christmas. \n",
            "\n",
            "I will definitely stick to traditional ramen places. \n",
            "2- Go to a traditional ramen place instead! This place is overrated. I don't get how people love this place. Don't waste your money or time here.\n",
            "\n",
            "I had the miso ramen and it was sweet! I never had sweet miso broth before. The sweetness drowned out the miso flavor. Even the pork shoulder had a sweet glaze on it that did not appeal to me and I didn't bother to finish the pork shoulder. The noodles were hard, clumped together and I didn't get enough broth with my ramen. Good thing I was very hungry, otherwise I wouldn't have finished eating the miso ramen. \n",
            "\n",
            "I also had an unimpressive sangria...small glass filled with mostly ice for $10. \n",
            "\n",
            "The decorative lights made it feel like it was Christmas. \n",
            "\n",
            "I will definitely stick to traditional ramen places. \n",
            "\n",
            "JACCARD: 0.8837209302325582 \n",
            "ESTIMATION 0.81 \n",
            "\n",
            "1-  The Clearwater area has been in dire need for a sushi spot like this!\n",
            "\n",
            "This restaurant offers an excellent all you can eat sushi and hibachi menu along with plenty of appetizers and soups to choose from. For dinner the price is very reasonable at $17.95 per person and kids 4-8 are only $4.99! Can you even get a happy meal for that price? Our daughter loves sushi and Chicken Teriyaki so she was in heaven. If you aren't into sushi that's ok as you can choose from a wide array of dinner items.\n",
            "\n",
            "Please note this is not a buffet style place like many other places in the area. You place your order from the menu they give you and then they make the items for you and bring them out. This is better as you know they are making it fresh for you and it hasn't been sitting on some warmer exposed to the public with a chance of people breathing all over it.\n",
            "\n",
            "We went on a Monday night around 6:30 and it was nice and quiet as we were the only ones in the restaurant. The inside is very nicely decorated and doesn't quite feel like a Japanese restaurant with the tasteful decor they have.\n",
            "\n",
            "We had a few of the rolls on the menu including Spicy Tuna and Salmon rolls along with a Mexican roll off of the standard rolls menu. Each one was amazing and you could tell everything was fresh as it melted in your mouth and the fish had no smell whatsoever. The spicy rolls are not really spicy so if you like it hot ask for it Extra Spicy to kick it up a notch.\n",
            "\n",
            "Where the good rolls are at is in the Signature Rolls section which is included in the menu. I know some other places in Pinellas County where they charge you extra for these. We had a large variety including The Hawaii, Rainbow, Dancing Krab, Green Sarabay, Saki, Volcano and the Crunchy 2 in 1. Wow that sounds like a lot! Our favorite by far was the Volcano which was baked and topped with Krab and spicy mayo. I'm not usually a fan of cooked rolls but this was amazing. Another to recommend is the Crunchy 2 in 1. Our goal is to try every roll they have as the menu is quite extensive.\n",
            "\n",
            "Make sure to only order what you know you will eat as they will charge you for any pieces you leave up to .75 per piece I believe.\n",
            "\n",
            "The server was always smiling and very courteous and made us feel welcomed. By the time we left, the restaurant was starting to fill up.\n",
            "\n",
            "This is definitely a place to try if you are into sushi and looking for an all you can eat option. The sushi is actually better than other places in the area that don't off the AYCE option. \n",
            "2- The Clearwater area has been in dire need for a sushi spot like this!\n",
            "\n",
            "This restaurant offers an excellent all you can eat sushi and hibachi menu along with plenty of appetizers and soups to choose from. For dinner the price is very reasonable at $17.95 per person and kids 4-8 are only $4.99! Can you even get a happy meal for that price? Our daughter loves sushi and Chicken Teriyaki so she was in heaven. If you aren't into sushi that's ok as you can choose from a wide array of dinner items. \n",
            "\n",
            "Please note this is not a buffet style place like many other places in the area. You place your order from the menu they give you and then they make the items for you and bring them out. This is better as you know they are making it fresh for you and it hasn't been sitting on some warmer exposed to the public with a chance of people breathing all over it.\n",
            "\n",
            "We went on a Monday night around 6:30 and it was nice and quiet as we were the only ones in the restaurant. The inside is very nicely decorated and doesn't quite feel like a Japanese restaurant with the tasteful decor they have.\n",
            "\n",
            "We had a few of the rolls on the menu including Spicy Tuna and Salmon rolls along with a Mexican roll off of the standard rolls menu. Each one was amazing and you could tell everything was fresh as it melted in your mouth and the fish had no smell whatsoever. The spicy rolls are not really spicy so if you like it hot ask for it Extra Spicy to kick it up a notch.\n",
            "\n",
            "Where the good rolls are at is in the Signature Rolls section which is included in the menu. I know some other places in Pinellas County where they charge you extra for these. We had a large variety including The Hawaii, Rainbow, Dancing Krab, Green Sarabay, Saki, Volcano and the Crunchy 2 in 1. Wow that sounds like a lot! Our favorite by far was the Volcano which was baked and topped with Krab and spicy mayo. I'm not usually a fan of cooked rolls but this was amazing. Another to recommend is the Crunchy 2 in 1. Our goal is to try every roll they have as the menu is quite extensive.\n",
            "\n",
            "Make sure to only order what you know you will eat as they will charge you for any pieces you leave up to .75 per piece I believe.\n",
            "\n",
            "The server was always smiling and very courteous and made us feel welcomed. By the time we left, the restaurant was starting to fill up.\n",
            "\n",
            "This is definitely a place to try if you are into sushi and looking for an all you can eat option. The sushi is actually better than other places in the area that don't off the AYCE option. \n",
            "\n",
            "JACCARD: 1.0 \n",
            "ESTIMATION 1.0 \n",
            "\n",
            "1-  Cute interior and owner (?) gave us tour of upcoming patio/rooftop area which will be great on beautiful days like today. Cheese curds were very good and very filling. Really like that sandwiches come w salad, esp after eating too many curds! Had the onion, gruyere, tomato sandwich. Wasn't too much cheese which I liked. Needed something else...pepper jelly maybe. Would like to see more menu options added such as salads w fun cheeses. Lots of beer and wine as well as limited cocktails. Next time I will try one of the draft wines.\n",
            "\n",
            "Still don't like the sandwiches. Tried the fries though and tasty! \n",
            "2- Cute interior and owner (?) gave us tour of upcoming patio/rooftop area which will be great on beautiful days like today. Cheese curds were very good and very filling. Really like that sandwiches come w salad, esp after eating too many curds! Had the onion, gruyere, tomato sandwich. Wasn't too much cheese which I liked. Needed something else...pepper jelly maybe. Would like to see more menu options added such as salads w fun cheeses. Lots of beer and wine as well as limited cocktails. Next time I will try one of the draft wines. \n",
            "\n",
            "JACCARD: 0.9029850746268657 \n",
            "ESTIMATION 0.94 \n",
            "\n",
            "1-  Went to Philly Diner for dinner tonight. Service was horrible.  Ask the waiter for extra butter for the baked potato and by the time the butter came the potato was so cold, even the half melted butter wouldn't even melt the rest of the way. Took ten minutes to flag down our server for more soda since he never came back to check on us. Husband got the short ribs which was three pieces of meat. Ate one and started to eat the next but the remaining pieces were just fat and gristle. Complained to the server and was told the dinner would be taken off our bill but we had to pay for the sides. So how exactly did the \"sides\" almost cost as much as the dinner???? they took off $1.99. Bitched and they took off another 10%. Still NOT WORTH IT!!!. And all they said was sorry but it's our policy. Yes go ahead and laugh..... we are Seniors and eat in a lot of diners.  Never experienced anything like this before. RANT OVER. \n",
            "2- Service was horrible.  Ask the waiter for extra butter for the baked potato and by the time the butter came the potato was so cold, even the half melted butter wouldn't even melt the rest of the way. Took ten minutes to flag down our server for more soda since he never came back to check on us. Husband got the short ribs which was three pieces of meat. Ate one and started to eat the next but the remaining pieces were just fat and gristle. Complained to the server and was told the dinner would be taken off our bill but we had to pay for the sides. So how exactly did the \"sides\" almost cost as much as the dinner???? they took off $1.99. Bitched and they took off another 10%. Still NOT WORTH IT!!!. And all they said was sorry but it's our policy. Yes go ahead and laugh..... we are Seniors and eat in a lot of diners.  Never experienced anything like this before. \n",
            "\n",
            "JACCARD: 0.9421157684630739 \n",
            "ESTIMATION 0.95 \n",
            "\n",
            "1-  Went on a Tuesday night for a couple of drinks. It's the perfect relax, chill place to have some beers over nice conversation. They are pretty laid back and you can sit either inside or outside by their front porch, which sometimes can be super crowded, although you are welcome to sit down at any table that has a free space. Great selection of beer, I will definitely be back! \n",
            "2- Went on a Tuesday night for a couple of drinks. It's the perfect relax, chill place to have some beers over nice conversation. They are pretty laid back and you can sit either inside or outside by their porch, which sometimes can be super crowded. I will definitely be back! \n",
            "\n",
            "JACCARD: 0.6824034334763949 \n",
            "ESTIMATION 0.68 \n",
            "\n",
            "1-  The ticket clinic has always managed to help me with my tickets . I'm not sure why all the negative reviews but it has worked out great for me . Give them a try ! \n",
            "2- The ticket clinic has always managed to help me with my tickets . I'm not sure why all the negative reviews but it has worked out great for me . \n",
            "\n",
            "JACCARD: 0.8902439024390244 \n",
            "ESTIMATION 0.92 \n",
            "\n",
            "1-  I've been trying to get in this place since it opened weeks ago but the line was always too long. This time the lines were non existent. After sampling 7 different items on the menu I can see why. In a nutshell... The food is terrible. The pulled pork sandwich was dry as the Sahara. Potato wedges were bland, tasteless and soggy.  Not to mention the larger ones were undercooked.  The mashed potatoes were like trying to eat a container of white playdoh. How about the fries?  Listen... if you can't make French fries crispy then stop making them. Maybe salt on them would help but probably not. The Mac and cheese had zero flavor and the texture made me think it was microwaved Mac and cheese from the dollar store sitting on your countertop for a few hours. The fried chicken breading flavor wasn't terrible but it was wet and soggy. That's a no no. It's fried chicken for Gods sake. CRISPY please!  Lastly the  biscuits... What can I say? Dry and tasteless. Did I say dry? I did. Big disappointment. One star is too much for this joint. I give the place 6 months. \n",
            "\n",
            "Update:  I was wrong.  They lasted 9 months.  Hopefully a 5 guys leases this joint. :) \n",
            "2- I've been trying to get in this place since it opened weeks ago but the line was always too long. This time the lines were non existent. After sampling 7 different items on the menu I can see why. In a nutshell... The food is terrible. The pulled pork sandwich was dry as the Sahara. Potato wedges were bland, tasteless and soggy.  Not to mention the larger ones were undercooked.  The mashed potatoes were like trying to eat a container of white playdoh. How about the fries?  Listen... if you can't make French fries crispy then stop making them. Maybe salt on them would help but probably not. The Mac and cheese had zero flavor and the texture made me think it was microwaved Mac and cheese from the dollar store sitting on your countertop for a few hours. The fried chicken breading flavor wasn't terrible but it was wet and soggy. That's a no no. It's fried chicken for Gods sake. CRISPY please!  Lastly the  biscuits... What can I say? Dry and tasteless. Did I say dry? I did. Big disappointment. One star is too much for this joint. I give the place 6 months. \n",
            "\n",
            "JACCARD: 0.9227272727272727 \n",
            "ESTIMATION 0.94 \n",
            "\n",
            "1-  Chips and blue cheese not so good. \n",
            "\n",
            "The rest of the apps we had were dynamite.  Clean oysters, mussels were amazing (ask for bread). Everyone loved the lamb, fish and chips, and the salmon.\n",
            "\n",
            "Wait staff was very attentive, but not over the top, in your face.\n",
            "\n",
            "Love, love, love the new addition to Doylestown. \n",
            "\n",
            "A welcome new a addition to the many duds in the area. \n",
            "2- Chips and blue cheese not so good. \n",
            "\n",
            "The rest of the apps we had were dynamite.  Clean oysters, mussels were amazing (ask for bread). Everyone loved the lamb, fish and chips, and the salmon.\n",
            "\n",
            "Wait staff was very attentive, but not over the top in your face.\n",
            "\n",
            "Love, love, love the new addition to Doylestown\n",
            "\n",
            "Welcome to good food Doylestown and enjoy! \n",
            "\n",
            "JACCARD: 0.8537735849056604 \n",
            "ESTIMATION 0.89 \n",
            "\n",
            "1-  Wishing a happy, healthy holiday season to the family and staff of this priceless Italian eatery located in Newtown PA.\n",
            "\n",
            "Always greeted with a smile, always a great meal.\n",
            "\n",
            "Nice to be recognized and know what your food likes or food needs/requirements include. \n",
            "\n",
            "Hands down a wonderful go to for self, for family and for entertaining of friends and family. \n",
            "2- Wishing a happy, healthy holiday season to the family and staff of this priceless Italian eatery located in Newtown PA.\n",
            "\n",
            "Always greeted with a smile, always a great meal.\n",
            "\n",
            "Nice to be recognized and know what your food likes or food needs/requirements include. \n",
            "\n",
            "Hands down a wonderful go to for self, for family and for entertaining of friends and family. \n",
            "\n",
            "JACCARD: 1.0 \n",
            "ESTIMATION 1.0 \n",
            "\n",
            "1-  Holy moly this is one of the best places to eat in Indy! So cheap and soooo good! I always get the Maque Choux which is made with corn and chicken. It's not spicy at all and pretty sweet. It's the perfect lunch or dinner. Oh, did I mention the garlic bread is the shiz?? Don't forget to brig cash or a check though because this Yatz does not take cards. \n",
            "2- Holy moly this is one of the best places to eat in Indy! So cheap and soooo good! I always get the Maque Choux which is made with corn and chicken. It's not spicy at all and pretty sweet. It's the perfect lunch or dinner. Oh, did I mention the garlic bread is the shiz?? \n",
            "\n",
            "JACCARD: 0.7548076923076923 \n",
            "ESTIMATION 0.73 \n",
            "\n",
            "1-  If I ever for any reason find myself on death row, I will go out smiling after picking Khmer for my last meal. This place deserves a SOLID five star review. The food is spectacular. I had never tried Cambodian food but found the spice blends to be EXTREMELY agreeable and complimentary to the meats and veggies they were cooked with. Get the meatballs. Wrap them in lettuce and dip them in the spicy sweet sauce. Get the caramelized pork in coconut. Get the 4 mushroom lemon grass pork in the banana leaf. The only reason I would NOT reorder these items is to try the rest of the menu. I want everything. Byob (though we didn't last night, couldn't find a liquor store) is a nice option, and the family that owns Khmer is SO accommodating and cool. I expected Khmer to be sort of a hole in the wall, due to the lack of any Yelp interior pictures, but I actually found it to be very cute. I caaaaan't wait to go back. Also, for anyone deducting stars due to wait times, wouldn't you rather your food be cooked to order than sitting on some cart all day? I actually liked hanging out there and having brief exchanges with the other diners and the owner. My food was $9. The best I've ever had.\n",
            "\n",
            "Update: Bummed that its the second time I've taken my date here and they were out of the meatballs and beef skewer, but its my own fault for going so late. Everything we got( the spicy red ground pork and the chicken salad in sauce) were spectacular. This place is tried and true. \n",
            "2- If I ever for any reason find myself on death row, I will go out smiling after picking Khmer for my last meal. This place deserves a SOLID five star review. The food is spectacular. I had never tried Cambodian food but found the spice blends to be EXTREMELY agreeable and complimentary to the meats and veggies they were cooked with. Get the meatballs. Wrap them in lettuce and dip them in the spicy sweet sauce. Get the caramelized pork in coconut. Get the 4 mushroom lemon grass pork in the banana leaf. The only reason I would NOT reorder these items is to try the rest of the menu. I want everything. Byob (though we didn't last night, couldn't find a liquor store) is a nice option, and the family that owns Khmer is SO accommodating and cool. I expected Khmer to be sort of a hole in the wall, due to the lack of any Yelp interior pictures, but I actually found it to be very cute. I caaaaan't wait to go back. Also, for anyone deducting stars due to wait times, wouldn't you rather your food be cooked to order than sitting on some cart all day? I actually liked hanging out there and having brief exchanges with the other diners and the owner. My food was $9. The best I've ever had. \n",
            "\n",
            "JACCARD: 0.8547215496368039 \n",
            "ESTIMATION 0.9 \n",
            "\n",
            "1-  Complete gem in the middle of downtown! Please trust Glen with his own menu that is pasted on how hungry you are and what you don't like. You won't be disappointed! (Also, I'm completely under describing the following.)\n",
            "\n",
            "Black clod that cuts like butter... \"better than you pork belly\" tapas served with apple brandy reduction, grilled lamb skewer with perfectly paired Harissa and romesco sauces.... the list goes on. \n",
            "\n",
            "Oh wait did I forget about the amazing priorat I drank! I guess the food actually made me forget the wine (for half a second)!\n",
            ".....\n",
            "\n",
            "1 year later...\n",
            "\n",
            "\"I'll start with a white\"\n",
            "\"Dry?\"\n",
            "\"Remind me what you don't like to eat\"\n",
            "\n",
            "And done. No ordering needed. Everything was wonderful and pared wonderfully.. No wondering through menus, knowing you will be taken care of and at a reasonable price.  I wish there where more restaurants like this. \n",
            "2- Complete gem in the middle of downtown! Please trust Glen with his own menu that is pasted on how hungry you are and what you don't like. You won't be disappointed! (Also, I'm completely under describing the following.)\n",
            "\n",
            "Black clod that cuts like butter... \"better than you pork belly\" tapas served with apple brandy reduction, grilled lamb skewer with perfectly paired Harissa and romesco sauces.... the list goes on. \n",
            "\n",
            "Oh wait did I forget about the amazing priorat I drank! I guess the food actually made me forget the wine (for half a second)! \n",
            "\n",
            "JACCARD: 0.6859344894026975 \n",
            "ESTIMATION 0.83 \n",
            "\n",
            "1-  Great bibimbap! Fresh veggies, great flavor and very reasonable. The owners are very nice as well. This is our favorite bibimbap in the city! Truly a hidden gem. \n",
            "2- Great bibimbap! Fresh veggies, great flavor and very reasonable. The owners are very nice as well. This is our favorite bibimbap in the city! \n",
            "\n",
            "JACCARD: 0.8247422680412371 \n",
            "ESTIMATION 0.94 \n",
            "\n",
            "1-  Super friendly people and workers here!!! The food is great but they only two cooks and they work their hardest I come here every time I'm in the mood for something fast and delicious. They have a wide selection of stir fry and drinks with great pho. Don't listen to the bad reviews they obviously think it's a rich people place it's a great place. \n",
            "2- Super friendly people and workers here!!! The food is great but they only two cooks and they work their hardest I come here every time I'm in the mood for something fast and delicious. They have a wide selection of stir fry and drinks with great pho. Don't listen to the bad reviews they obviously think it's a rich people place it's a great people \n",
            "\n",
            "JACCARD: 0.9806763285024155 \n",
            "ESTIMATION 0.97 \n",
            "\n",
            "1-  I've been a fan of Malena's since she opened five years ago.  You can tell that she picks each of her pieces with care and experience.  In a store that sells 90% vintage merchandise (10% rockabilly apparel), you'll be hard-pressed to find anything below excellent condition.\n",
            "\n",
            "The boutique also showcases local fashion design talent such as Nicole Rae Styer.\n",
            "\n",
            "My favorite part about Malena's (and most other shops in West Chester) is their First Friday Event.  The first Friday of every month, the boutique stays open late, serves drinks and Hor D'oeuvres and has a big sale.  A great way to spend a friday!\n",
            "\n",
            "The prices are reasonable also, so you can find your one-of-a-kind item without breaking the bank. \n",
            "2- I've been a fan of Malena's since she opened five years ago.  You can tell that she picks each of her pieces with care and experience.  In a store that sells 90% vintage merchandise (10% rockabilly apparel), you'll be hard-pressed to find anything below excellent condition.\n",
            "\n",
            "The boutique also showcases local fashion design talent such as Nicole Ray Styer.\n",
            "\n",
            "My favorite part about Malena's (and most other shops in West Chester) is their First Friday Event.  The first Friday of every month, the boutique stays open late, serves drinks and Hor D'oeuvres and has a big sale.  A great way to spend a friday!\n",
            "\n",
            "The prices are reasonable also, so you can find your one-of-a-kind item without breaking the bank. \n",
            "\n",
            "JACCARD: 0.9779735682819384 \n",
            "ESTIMATION 0.99 \n",
            "\n",
            "1-  Certainly not worth the price. IMO food was not seasoned the way I expect an Italian restaurant to be. \n",
            "2- Certainly not worth the price. IMO food was not seasoned the way I expect an Italian restaurant to be. \n",
            "\n",
            "JACCARD: 1.0 \n",
            "ESTIMATION 1.0 \n",
            "\n",
            "1-  This is hands down one of the best places to eat on the Eastern Main line. The service is impeccable- timely, polite, friendly and responsive. When I ordered the tofu pad Thai, the server asked if I was ok with egg in the dish. So conscientious! \n",
            "\n",
            "We eat here A LOT and have tried most of the menu. The soups are delicious as are the appetizers we have tried. Our favorite entrees are the curries, pad Thai, drunken noodles and some of their specials. Recently they had a Broad Street special and it was spectacular. We also love the apple salad. \n",
            "\n",
            "Highly HIGHLY recommend making this one of your regular spots!! \n",
            "2- This is hands down one of the best places to eat on the Eastern Main line. The service is impeccable- timely, polite, friendly and responsive. When I ordered the tofu pad Thai, the server asked if I was ok with egg in the dish. So conscientious! \n",
            "\n",
            "We eat here A LOT and have tried most of the menu. The soups are delicious as are the appetizers we have tried. Our favorite entrees are the curries, pad Thai, drunken noodles and some of their specials. Recently they had a Broad Street special and it was spectacular. We also love the apple salad. \n",
            "\n",
            "Highly HIGHLY recommend making this one of your regular spots!! \n",
            "\n",
            "JACCARD: 1.0 \n",
            "ESTIMATION 1.0 \n",
            "\n",
            "1-  Would recommend to all!! Had the tiger roll and the Florida sunshine roll last visit. Both were incredible tasty. In addition to great quality food and reasonably priced, the service was great. Their servers - especially Kellen- was extremely friendly making us feel very comfortable and allowing for a very enjoyable dinner. He was attentive to all of our needs and went out of his way to make sure we were satisfied. \n",
            "2- Had the tiger roll and the sunshine roll last visit. Both were incredible tasty. In addition to great quality food and reasonably priced, the service was great. Their servers - especially Kellen- was extremely friendly making us feel very comfortable and allowing for a very enjoyable dinner. He was attentive to all of our needs and went out of his way to make sure we were satisfied. \n",
            "\n",
            "JACCARD: 0.8888888888888888 \n",
            "ESTIMATION 0.84 \n",
            "\n",
            "1-  Got greek salad and spicy chicken wrap. Was able to change tortilla style but wish they did half wraps so I could get half salad half wrap. Fairly nice and quick service. Will try three stooges wrap next time. A little more than I wanted to pay for food but that's to be expected with limited serving hours. Food seems as fresh as a chipotle or piada. They did have smoothies and an array of salad dressings. Dessert selection minimal-only had 2 of 6 desserts at noon. Wrap was great, but lots of dressing. Salad was fresh and great-veggies like cucumbers, tomatoes and onions very finely chopped. I'll def. be back! \n",
            "2- Got greek salad and spicy chicken wrap. Was able to change tortilla style but wish they did half wraps so I could get half salad half wrap. Fairly nice and quick service. Will try three stooges wrap next time. A little more than I wanted to pay for food but that's to be expected with limited serving hours. Food seems as fresh as a chipotle or piada. They did have smoothies and an array of salad dressings. Dessert selection minimal-only had 2 of 6 desserts at noon. \n",
            "\n",
            "JACCARD: 0.7686567164179104 \n",
            "ESTIMATION 0.8 \n",
            "\n",
            "1-  Had a meeting scheduled for 3 days, room not set up when we got to the hotel, sleeping rooms messed up and today when we asked to have trash removed from the meeting room we were given garbage bags and told sorry no one here to do it?   No stars.....oh it gets better, no creamer for a cup of coffee, and when we asked for some we were told no, it's for guests only. Never mind we have a 3 day event and are paying for breakfast for 50 people a day and have 6 people staying overnight.  We will NEVER be back. PERIOD. \n",
            "2- Had a meeting scheduled for 3 days, room not set up when we got to the hotel, sleeping rooms messed up and today when we asked to have trash removed from the meeting room we were given garbage bags and told sorry no one here to do it?   No stars \n",
            "\n",
            "JACCARD: 0.5019305019305019 \n",
            "ESTIMATION 0.62 \n",
            "\n",
            "1-  Feel like I just took a trip to heaven and back \n",
            "This place is clean, professional and excellent therapists \n",
            "I had a body scrub, shampoo and Swedish massage \n",
            "Can't wait to come back and also try their food \n",
            "I would have given six stars if that was possible \n",
            "2- Feel like I just took a trip to heaven and back \n",
            "This place is clean, professional and excellent therapists \n",
            "I had a body scrub, shampoo and Swedish massage \n",
            "Can't wait to come back and also try their food \n",
            "I would have given six stars if that was possible \n",
            "\n",
            "JACCARD: 1.0 \n",
            "ESTIMATION 1.0 \n",
            "\n",
            "1-  Very nice service, and comfortable atmosphere. \n",
            "Food is quite tasty and well-presented. \n",
            "Location and setting is nicely close on the Mesa, but off the beaten path with good parking. Very close to the corner of Cliff Dr and Meigs Rd. \n",
            "2- Very nice service, and comfortable atmosphere. \n",
            "Food is quite tasty and well-presented. \n",
            "Location and setting is nicely close on the Mesa, but off the beaten path with good parking. \n",
            "\n",
            "JACCARD: 0.8133333333333334 \n",
            "ESTIMATION 0.82 \n",
            "\n",
            "1-  Amazing service and even better food.  Only been in New Orleans 3 days so far and we hit this spot twice,  And probably will hit it everyday until we leave. I have to try the rest of the deliciousness on the menu. \"Don't come here if you on a diets\" says the owner, he is so right. \n",
            "2- Amazing service and even better food.  Only been in New Orleans 3 days so far and we hit this spot twice,  And probably will hit it everyday until we leave. I have to try the rest of the deliciousness on the menu. \"Don't come here if you're on a diet\" says the owner, he is so right. \n",
            "\n",
            "JACCARD: 0.8855421686746988 \n",
            "ESTIMATION 0.84 \n",
            "\n",
            "1-  Wonderful food! First time visit tonight and we will definitely be back. Gnocchi and strip steak were perfect, chocolate torte was heaven.  Nice dinner with appetizer, 2 entrees, drinks and dessert for $75, well worth it!.  My new favorite place. \n",
            "2- Wonderful food! First time visit tonight and we will definitely be back. Gnocchi and step steak were perfect, chocolate torte was heaven.  Nice dinner with appetizer, 2 entrees, drinks and dessert for $75, well worth it!.  My new favorite place. \n",
            "\n",
            "JACCARD: 0.9411764705882353 \n",
            "ESTIMATION 0.94 \n",
            "\n"
          ]
        }
      ]
    },
    {
      "cell_type": "code",
      "source": [
        "correct_1 = len([e for e in errors if e < 0.01])\n",
        "correct_2 = len([e for e in errors if e < 0.1])\n",
        "print(\"Mean error: \", round(sum(errors) / len(errors), 4))\n",
        "print(\"Jaccard similarity mean value: \",\n",
        "  round(sum(jac_values) / len(jac_values), 4))\n",
        "print(\"Correct estimation (error < 0.01): \", round(correct_1/len(errors),4)*100,\"%\")\n",
        "print(\"Correct estimation (error < 0.1): \", round(correct_2/len(errors),4)*100,\"%\")"
      ],
      "metadata": {
        "colab": {
          "base_uri": "https://localhost:8080/"
        },
        "id": "bcOeWqewi6IC",
        "outputId": "10dc94f8-93bd-410c-fd41-44e9894c4026"
      },
      "execution_count": 75,
      "outputs": [
        {
          "output_type": "stream",
          "name": "stdout",
          "text": [
            "Mean error:  0.0295\n",
            "Jaccard similarity mean value:  0.8791\n",
            "Correct estimation (error < 0.01):  45.16 %\n",
            "Correct estimation (error < 0.1):  90.32 %\n"
          ]
        }
      ]
    }
  ]
}