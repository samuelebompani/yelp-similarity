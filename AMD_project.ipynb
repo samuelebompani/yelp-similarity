{
  "nbformat": 4,
  "nbformat_minor": 0,
  "metadata": {
    "colab": {
      "provenance": [],
      "collapsed_sections": [
        "IVg7akPAA4yz"
      ],
      "toc_visible": true,
      "include_colab_link": true
    },
    "kernelspec": {
      "name": "python3",
      "display_name": "Python 3"
    }
  },
  "cells": [
    {
      "cell_type": "markdown",
      "metadata": {
        "id": "view-in-github",
        "colab_type": "text"
      },
      "source": [
        "<a href=\"https://colab.research.google.com/github/samuelebompani/yelp-similarity/blob/main/AMD_project.ipynb\" target=\"_parent\"><img src=\"https://colab.research.google.com/assets/colab-badge.svg\" alt=\"Open In Colab\"/></a>"
      ]
    },
    {
      "cell_type": "markdown",
      "metadata": {
        "id": "pnifhMTt9IVg"
      },
      "source": [
        "# **AMD Project**\n",
        "## Similar items\n",
        "### Samuele Bompani 984322"
      ]
    },
    {
      "cell_type": "markdown",
      "source": [
        "# *Global variables*"
      ],
      "metadata": {
        "id": "IqUuqU2PmWzm"
      }
    },
    {
      "cell_type": "code",
      "source": [
        "slow =  {\n",
        "  \"n\": 100000,\n",
        "  \"k\": 5,\n",
        "  \"h\": 100,\n",
        "  \"b\": 10000\n",
        "}\n",
        "fast = {\n",
        "  \"n\": 100000,\n",
        "  \"k\": 5,\n",
        "  \"h\": 10,\n",
        "  \"b\": 2000\n",
        "}\n",
        "variables = slow"
      ],
      "metadata": {
        "id": "Um9uHA-kmU5b"
      },
      "execution_count": null,
      "outputs": []
    },
    {
      "cell_type": "markdown",
      "metadata": {
        "id": "mlTDs60E9aFM"
      },
      "source": [
        "# *Import Libraries*\n",
        "\n"
      ]
    },
    {
      "cell_type": "code",
      "metadata": {
        "id": "pYdRYx1u9FvW"
      },
      "source": [
        "! pip install -q pyspark\n",
        "import matplotlib.pyplot as plt\n",
        "import numpy as np\n",
        "import os\n",
        "import pandas as pd\n",
        "import json\n",
        "from google.colab import files\n",
        "import string\n",
        "import re\n",
        "import nltk\n",
        "from nltk.corpus import stopwords\n",
        "import pyspark"
      ],
      "execution_count": null,
      "outputs": []
    },
    {
      "cell_type": "code",
      "source": [
        "spark = pyspark.sql.SparkSession.builder.master('local[*]').appName(\"yelp-similarity\").getOrCreate()\n",
        "sc = spark.sparkContext"
      ],
      "metadata": {
        "id": "JSsI4OsBsTip"
      },
      "execution_count": null,
      "outputs": []
    },
    {
      "cell_type": "markdown",
      "source": [
        "# *Import the dataset*"
      ],
      "metadata": {
        "id": "6Zj81pokDDJi"
      }
    },
    {
      "cell_type": "markdown",
      "source": [
        "## *Upload the credentials*"
      ],
      "metadata": {
        "id": "6vnVOrfPOoU7"
      }
    },
    {
      "cell_type": "markdown",
      "source": [
        "Upload a file named kaggle.json with your Kaggle credentials"
      ],
      "metadata": {
        "id": "0qNq_H-IO272"
      }
    },
    {
      "cell_type": "code",
      "source": [
        "files.upload()\n",
        "print(\"ok\")"
      ],
      "metadata": {
        "colab": {
          "base_uri": "https://localhost:8080/",
          "height": 93
        },
        "id": "EbZRN7LUGbeo",
        "outputId": "11b98a5a-4aec-41a5-8936-59b2c591d6a2"
      },
      "execution_count": null,
      "outputs": [
        {
          "output_type": "display_data",
          "data": {
            "text/plain": [
              "<IPython.core.display.HTML object>"
            ],
            "text/html": [
              "\n",
              "     <input type=\"file\" id=\"files-7635e670-ceb7-416b-af0c-753cce0fc38c\" name=\"files[]\" multiple disabled\n",
              "        style=\"border:none\" />\n",
              "     <output id=\"result-7635e670-ceb7-416b-af0c-753cce0fc38c\">\n",
              "      Upload widget is only available when the cell has been executed in the\n",
              "      current browser session. Please rerun this cell to enable.\n",
              "      </output>\n",
              "      <script>// Copyright 2017 Google LLC\n",
              "//\n",
              "// Licensed under the Apache License, Version 2.0 (the \"License\");\n",
              "// you may not use this file except in compliance with the License.\n",
              "// You may obtain a copy of the License at\n",
              "//\n",
              "//      http://www.apache.org/licenses/LICENSE-2.0\n",
              "//\n",
              "// Unless required by applicable law or agreed to in writing, software\n",
              "// distributed under the License is distributed on an \"AS IS\" BASIS,\n",
              "// WITHOUT WARRANTIES OR CONDITIONS OF ANY KIND, either express or implied.\n",
              "// See the License for the specific language governing permissions and\n",
              "// limitations under the License.\n",
              "\n",
              "/**\n",
              " * @fileoverview Helpers for google.colab Python module.\n",
              " */\n",
              "(function(scope) {\n",
              "function span(text, styleAttributes = {}) {\n",
              "  const element = document.createElement('span');\n",
              "  element.textContent = text;\n",
              "  for (const key of Object.keys(styleAttributes)) {\n",
              "    element.style[key] = styleAttributes[key];\n",
              "  }\n",
              "  return element;\n",
              "}\n",
              "\n",
              "// Max number of bytes which will be uploaded at a time.\n",
              "const MAX_PAYLOAD_SIZE = 100 * 1024;\n",
              "\n",
              "function _uploadFiles(inputId, outputId) {\n",
              "  const steps = uploadFilesStep(inputId, outputId);\n",
              "  const outputElement = document.getElementById(outputId);\n",
              "  // Cache steps on the outputElement to make it available for the next call\n",
              "  // to uploadFilesContinue from Python.\n",
              "  outputElement.steps = steps;\n",
              "\n",
              "  return _uploadFilesContinue(outputId);\n",
              "}\n",
              "\n",
              "// This is roughly an async generator (not supported in the browser yet),\n",
              "// where there are multiple asynchronous steps and the Python side is going\n",
              "// to poll for completion of each step.\n",
              "// This uses a Promise to block the python side on completion of each step,\n",
              "// then passes the result of the previous step as the input to the next step.\n",
              "function _uploadFilesContinue(outputId) {\n",
              "  const outputElement = document.getElementById(outputId);\n",
              "  const steps = outputElement.steps;\n",
              "\n",
              "  const next = steps.next(outputElement.lastPromiseValue);\n",
              "  return Promise.resolve(next.value.promise).then((value) => {\n",
              "    // Cache the last promise value to make it available to the next\n",
              "    // step of the generator.\n",
              "    outputElement.lastPromiseValue = value;\n",
              "    return next.value.response;\n",
              "  });\n",
              "}\n",
              "\n",
              "/**\n",
              " * Generator function which is called between each async step of the upload\n",
              " * process.\n",
              " * @param {string} inputId Element ID of the input file picker element.\n",
              " * @param {string} outputId Element ID of the output display.\n",
              " * @return {!Iterable<!Object>} Iterable of next steps.\n",
              " */\n",
              "function* uploadFilesStep(inputId, outputId) {\n",
              "  const inputElement = document.getElementById(inputId);\n",
              "  inputElement.disabled = false;\n",
              "\n",
              "  const outputElement = document.getElementById(outputId);\n",
              "  outputElement.innerHTML = '';\n",
              "\n",
              "  const pickedPromise = new Promise((resolve) => {\n",
              "    inputElement.addEventListener('change', (e) => {\n",
              "      resolve(e.target.files);\n",
              "    });\n",
              "  });\n",
              "\n",
              "  const cancel = document.createElement('button');\n",
              "  inputElement.parentElement.appendChild(cancel);\n",
              "  cancel.textContent = 'Cancel upload';\n",
              "  const cancelPromise = new Promise((resolve) => {\n",
              "    cancel.onclick = () => {\n",
              "      resolve(null);\n",
              "    };\n",
              "  });\n",
              "\n",
              "  // Wait for the user to pick the files.\n",
              "  const files = yield {\n",
              "    promise: Promise.race([pickedPromise, cancelPromise]),\n",
              "    response: {\n",
              "      action: 'starting',\n",
              "    }\n",
              "  };\n",
              "\n",
              "  cancel.remove();\n",
              "\n",
              "  // Disable the input element since further picks are not allowed.\n",
              "  inputElement.disabled = true;\n",
              "\n",
              "  if (!files) {\n",
              "    return {\n",
              "      response: {\n",
              "        action: 'complete',\n",
              "      }\n",
              "    };\n",
              "  }\n",
              "\n",
              "  for (const file of files) {\n",
              "    const li = document.createElement('li');\n",
              "    li.append(span(file.name, {fontWeight: 'bold'}));\n",
              "    li.append(span(\n",
              "        `(${file.type || 'n/a'}) - ${file.size} bytes, ` +\n",
              "        `last modified: ${\n",
              "            file.lastModifiedDate ? file.lastModifiedDate.toLocaleDateString() :\n",
              "                                    'n/a'} - `));\n",
              "    const percent = span('0% done');\n",
              "    li.appendChild(percent);\n",
              "\n",
              "    outputElement.appendChild(li);\n",
              "\n",
              "    const fileDataPromise = new Promise((resolve) => {\n",
              "      const reader = new FileReader();\n",
              "      reader.onload = (e) => {\n",
              "        resolve(e.target.result);\n",
              "      };\n",
              "      reader.readAsArrayBuffer(file);\n",
              "    });\n",
              "    // Wait for the data to be ready.\n",
              "    let fileData = yield {\n",
              "      promise: fileDataPromise,\n",
              "      response: {\n",
              "        action: 'continue',\n",
              "      }\n",
              "    };\n",
              "\n",
              "    // Use a chunked sending to avoid message size limits. See b/62115660.\n",
              "    let position = 0;\n",
              "    do {\n",
              "      const length = Math.min(fileData.byteLength - position, MAX_PAYLOAD_SIZE);\n",
              "      const chunk = new Uint8Array(fileData, position, length);\n",
              "      position += length;\n",
              "\n",
              "      const base64 = btoa(String.fromCharCode.apply(null, chunk));\n",
              "      yield {\n",
              "        response: {\n",
              "          action: 'append',\n",
              "          file: file.name,\n",
              "          data: base64,\n",
              "        },\n",
              "      };\n",
              "\n",
              "      let percentDone = fileData.byteLength === 0 ?\n",
              "          100 :\n",
              "          Math.round((position / fileData.byteLength) * 100);\n",
              "      percent.textContent = `${percentDone}% done`;\n",
              "\n",
              "    } while (position < fileData.byteLength);\n",
              "  }\n",
              "\n",
              "  // All done.\n",
              "  yield {\n",
              "    response: {\n",
              "      action: 'complete',\n",
              "    }\n",
              "  };\n",
              "}\n",
              "\n",
              "scope.google = scope.google || {};\n",
              "scope.google.colab = scope.google.colab || {};\n",
              "scope.google.colab._files = {\n",
              "  _uploadFiles,\n",
              "  _uploadFilesContinue,\n",
              "};\n",
              "})(self);\n",
              "</script> "
            ]
          },
          "metadata": {}
        },
        {
          "output_type": "stream",
          "name": "stdout",
          "text": [
            "Saving kaggle.json to kaggle.json\n",
            "ok\n"
          ]
        }
      ]
    },
    {
      "cell_type": "code",
      "source": [
        "! mkdir ~/.kaggle\n",
        "\n",
        "! mv kaggle.json ~/.kaggle/ #copying kaggle.json\n",
        "\n",
        "! chmod 600 ~/.kaggle/kaggle.json #reading the file with full access"
      ],
      "metadata": {
        "id": "aS1dNqusGqgt",
        "colab": {
          "base_uri": "https://localhost:8080/"
        },
        "outputId": "8eb70ce3-3ba3-4b6f-cefb-cdb6ee497b7d"
      },
      "execution_count": null,
      "outputs": [
        {
          "output_type": "stream",
          "name": "stdout",
          "text": [
            "mkdir: cannot create directory ‘/root/.kaggle’: File exists\n"
          ]
        }
      ]
    },
    {
      "cell_type": "markdown",
      "source": [
        "## *Download the dataset*"
      ],
      "metadata": {
        "id": "jLGJRYeQPULU"
      }
    },
    {
      "cell_type": "code",
      "source": [
        "! kaggle datasets download -f yelp_academic_dataset_review.json -d yelp-dataset/yelp-dataset #downloading the compatition dataset\n",
        "! unzip -n yelp_academic_dataset_review.json.zip"
      ],
      "metadata": {
        "id": "bQgd0tUIHmNz",
        "colab": {
          "base_uri": "https://localhost:8080/"
        },
        "outputId": "68392ea6-711e-448d-909f-a967ba7a97b2"
      },
      "execution_count": null,
      "outputs": [
        {
          "output_type": "stream",
          "name": "stdout",
          "text": [
            "yelp_academic_dataset_review.json.zip: Skipping, found more recently modified local copy (use --force to force download)\n",
            "Archive:  yelp_academic_dataset_review.json.zip\n"
          ]
        }
      ]
    },
    {
      "cell_type": "markdown",
      "source": [
        "## *Open the dataset file*"
      ],
      "metadata": {
        "id": "vgJo5nhcPa3j"
      }
    },
    {
      "cell_type": "code",
      "source": [
        "# Set the dimension of the subset\n",
        "n_rows = variables.get(\"n\")\n",
        "data_spark = spark.read.json(\"yelp_academic_dataset_review.json\").limit(n_rows)\n",
        "data_spark.printSchema()"
      ],
      "metadata": {
        "id": "5wvTnZYAsmrG",
        "colab": {
          "base_uri": "https://localhost:8080/"
        },
        "outputId": "35193793-ccfb-4215-db4f-057fc3530c95"
      },
      "execution_count": null,
      "outputs": [
        {
          "output_type": "stream",
          "name": "stdout",
          "text": [
            "root\n",
            " |-- business_id: string (nullable = true)\n",
            " |-- cool: long (nullable = true)\n",
            " |-- date: string (nullable = true)\n",
            " |-- funny: long (nullable = true)\n",
            " |-- review_id: string (nullable = true)\n",
            " |-- stars: double (nullable = true)\n",
            " |-- text: string (nullable = true)\n",
            " |-- useful: long (nullable = true)\n",
            " |-- user_id: string (nullable = true)\n",
            "\n"
          ]
        }
      ]
    },
    {
      "cell_type": "markdown",
      "source": [
        "# *Finding similar items*"
      ],
      "metadata": {
        "id": "bZLMVVA7a8HX"
      }
    },
    {
      "cell_type": "code",
      "source": [
        "nltk.download('stopwords')"
      ],
      "metadata": {
        "colab": {
          "base_uri": "https://localhost:8080/"
        },
        "id": "vMC1SA7OklSs",
        "outputId": "15198fce-a8b3-4504-a588-ecb61ec2d441"
      },
      "execution_count": null,
      "outputs": [
        {
          "output_type": "stream",
          "name": "stderr",
          "text": [
            "[nltk_data] Downloading package stopwords to /root/nltk_data...\n",
            "[nltk_data]   Package stopwords is already up-to-date!\n"
          ]
        },
        {
          "output_type": "execute_result",
          "data": {
            "text/plain": [
              "True"
            ]
          },
          "metadata": {},
          "execution_count": 8
        }
      ]
    },
    {
      "cell_type": "markdown",
      "source": [
        "## Reduce text to tokens"
      ],
      "metadata": {
        "id": "IVg7akPAA4yz"
      }
    },
    {
      "cell_type": "markdown",
      "source": [
        "### K-shingles"
      ],
      "metadata": {
        "id": "TTUa_SdJq8oP"
      }
    },
    {
      "cell_type": "code",
      "source": [
        "def k_shingles(text, k):\n",
        "  shingles = []\n",
        "  ks_string = \" \".join(text)\n",
        "  for i in range(len(ks_string)-k+1):\n",
        "    shingles.append(ks_string[i:(i+k)])\n",
        "  return shingles"
      ],
      "metadata": {
        "id": "njotcAX0q7Sc"
      },
      "execution_count": null,
      "outputs": []
    },
    {
      "cell_type": "markdown",
      "source": [
        "### Tokenization and stopwords removal"
      ],
      "metadata": {
        "id": "mnzSr69Wtr48"
      }
    },
    {
      "cell_type": "code",
      "source": [
        "sw = stopwords.words('english')\n",
        "\n",
        "# Remove whitespaces and punctuation\n",
        "def normalize_text(text):\n",
        "  return text.lower().translate(str.maketrans('', '', string.punctuation))\n",
        "\n",
        "def tokenize_text(text):\n",
        "  filtered = []\n",
        "  for w in normalize_text(text).split():\n",
        "    # Remove stop words\n",
        "    if w not in sw:\n",
        "      filtered.append(w)\n",
        "  # Apply k-shingles\n",
        "  return k_shingles(filtered, variables.get(\"k\"))"
      ],
      "metadata": {
        "id": "vUWeBM4G2Tgq"
      },
      "execution_count": null,
      "outputs": []
    },
    {
      "cell_type": "code",
      "source": [
        "data_rep = data_spark.repartition(\"text\")\n",
        "data_sel = data_rep.select(data_rep.text)\n",
        "text_w_index = data_sel.rdd.map(lambda x: x.text).zipWithIndex()\n",
        "# Apply the previous defined functions\n",
        "tuples = text_w_index.flatMap(lambda x: map(lambda y: (y, x[1]), tokenize_text(x[0])))"
      ],
      "metadata": {
        "id": "xRLBY7j9Ksir"
      },
      "execution_count": null,
      "outputs": []
    },
    {
      "cell_type": "markdown",
      "source": [
        "## Minhash"
      ],
      "metadata": {
        "id": "vQNZB--PbAl4"
      }
    },
    {
      "cell_type": "markdown",
      "source": [
        "### Group touples by words"
      ],
      "metadata": {
        "id": "pHgu_4X02ZZL"
      }
    },
    {
      "cell_type": "code",
      "source": [
        "# Create tuples with the shape: (ns, [sd1, sd2, ...])\n",
        "# with ns = number associated to a shingle s\n",
        "# and  sdi = number associated to the document i, if s is present in it\n",
        "grouped_tuples = tuples.groupByKey().zipWithIndex().map(lambda x: (x[1], x[0][1]))"
      ],
      "metadata": {
        "id": "RHZm53GB2Yy7"
      },
      "execution_count": null,
      "outputs": []
    },
    {
      "cell_type": "markdown",
      "source": [
        "### Count the tokens"
      ],
      "metadata": {
        "id": "Y7uBUVgB4NkX"
      }
    },
    {
      "cell_type": "code",
      "source": [
        "token_count = grouped_tuples.count()\n",
        "print(\"Number of distinct shingles: \"+str(token_count))"
      ],
      "metadata": {
        "id": "wsJTUFca4Rb6",
        "colab": {
          "base_uri": "https://localhost:8080/"
        },
        "outputId": "654edc3e-bf3d-4594-ce25-875092a13765"
      },
      "execution_count": null,
      "outputs": [
        {
          "output_type": "stream",
          "name": "stdout",
          "text": [
            "Number of distinct shingles: 418945\n"
          ]
        }
      ]
    },
    {
      "cell_type": "markdown",
      "source": [
        "### Hash functions creation"
      ],
      "metadata": {
        "id": "ja68_YRX4qM_"
      }
    },
    {
      "cell_type": "code",
      "source": [
        "# Number of hash function\n",
        "n_hash = variables.get(\"h\")"
      ],
      "metadata": {
        "id": "e5XwUvxVPt4_"
      },
      "execution_count": null,
      "outputs": []
    },
    {
      "cell_type": "code",
      "source": [
        "import random as rd\n",
        "def h(a, b):\n",
        "  def new_h(x):\n",
        "    return (a * x + b) % token_count\n",
        "  return new_h\n",
        "\n",
        "hash_list = []\n",
        "for i in range(n_hash):\n",
        "  # a and b are two (pseudo)random numbers\n",
        "  hash_list.append(h(rd.randint(0,token_count), rd.randint(0,token_count)))"
      ],
      "metadata": {
        "id": "ne-o6SypO6Cr"
      },
      "execution_count": null,
      "outputs": []
    },
    {
      "cell_type": "markdown",
      "source": [
        "### Apply hash functions"
      ],
      "metadata": {
        "id": "eF-oHzQqW8cq"
      }
    },
    {
      "cell_type": "code",
      "source": [
        "def seqOpHash(d, x):\n",
        "  for i, h in enumerate(hash_list):\n",
        "    # apply the hash function h\n",
        "    val = h(x[0])\n",
        "    for j in x[1]:\n",
        "      # keys for d are tuples with this shape:\n",
        "      # (number of the hash function, number of the document)\n",
        "      if (i, j) not in d:\n",
        "        d[(i, j)] = val\n",
        "      else:\n",
        "        if(val < d.get((i, j))):\n",
        "          d[(i, j)] = val\n",
        "  return d\n",
        "\n",
        "def combOpHash(x, y):\n",
        "  return y\n",
        "\n",
        "# Apply the minhash algorithm\n",
        "min_hash = grouped_tuples.aggregate({}, seqOpHash, combOpHash)"
      ],
      "metadata": {
        "id": "ucWGvm8IoUhK"
      },
      "execution_count": null,
      "outputs": []
    },
    {
      "cell_type": "markdown",
      "source": [
        "### Extract the vectors"
      ],
      "metadata": {
        "id": "b8I07aFHXGrT"
      }
    },
    {
      "cell_type": "code",
      "source": [
        "par = []\n",
        "for i in min_hash:\n",
        "  par.append((i, min_hash[i]))\n",
        "d = sc.parallelize(par)"
      ],
      "metadata": {
        "id": "o_icb_2d5Gs-"
      },
      "execution_count": null,
      "outputs": []
    },
    {
      "cell_type": "code",
      "source": [
        "grouped = d.groupBy(lambda x: x[0][1])\n",
        "# Create the similarity matrix\n",
        "vecs = grouped.map(lambda x: (x[0], list(map(lambda y: y[1], x[1]))))"
      ],
      "metadata": {
        "id": "gPgbwOpWaUwl"
      },
      "execution_count": null,
      "outputs": []
    },
    {
      "cell_type": "markdown",
      "source": [
        "## LSH"
      ],
      "metadata": {
        "id": "1oK6UZ_Zcha0"
      }
    },
    {
      "cell_type": "markdown",
      "source": [
        "### Trashold choice"
      ],
      "metadata": {
        "id": "1LdJl1wWeApk"
      }
    },
    {
      "cell_type": "code",
      "source": [
        "b = variables.get(\"b\")\n",
        "r = int(n_rows/b)\n",
        "t = (1/b)**(1/r)\n",
        "print(\"b: \", b, \"\\nr: \", r, \"\\nt: \", round(t, 4))"
      ],
      "metadata": {
        "colab": {
          "base_uri": "https://localhost:8080/"
        },
        "id": "6UaZ5SUYcgO5",
        "outputId": "397ec571-240b-4a1f-b61f-a425ea4f34ec"
      },
      "execution_count": 47,
      "outputs": [
        {
          "output_type": "stream",
          "name": "stdout",
          "text": [
            "b:  10000 \n",
            "r:  10 \n",
            "t:  0.3981\n"
          ]
        }
      ]
    },
    {
      "cell_type": "markdown",
      "source": [
        "### Split vectors"
      ],
      "metadata": {
        "id": "MHZUJ5auhZk8"
      }
    },
    {
      "cell_type": "code",
      "source": [
        "def split_vector(vec):\n",
        "  sub_vecs = []\n",
        "  for i in range(0, len(vec), r):\n",
        "    sub_vecs.append(str(vec[i : i+r]))\n",
        "  return sub_vecs"
      ],
      "metadata": {
        "id": "qzzTCs0kdlHd"
      },
      "execution_count": null,
      "outputs": []
    },
    {
      "cell_type": "markdown",
      "source": [
        "### Candidate pairs identification"
      ],
      "metadata": {
        "id": "ix81dCX_ij1Q"
      }
    },
    {
      "cell_type": "code",
      "source": [
        "def seqOp(x, y):\n",
        "  for i, s in enumerate(y[1]):\n",
        "    if s not in x[i].keys():\n",
        "      x[i][s] = [y[0]]\n",
        "    else:\n",
        "      x[i][s].append(y[0])\n",
        "  return x\n",
        "\n",
        "def combOp(x, y):\n",
        "  return y\n",
        "\n",
        "subv = vecs.map(lambda x: (x[0], split_vector(x[1])))\n",
        "# Populate the buckets\n",
        "bucks = subv.aggregate(([{}]*b), seqOp, combOp)"
      ],
      "metadata": {
        "id": "W3-_3NjEyDJm"
      },
      "execution_count": null,
      "outputs": []
    },
    {
      "cell_type": "code",
      "source": [
        "from itertools import combinations\n",
        "\n",
        "def find_candidates(buckets):\n",
        "  candidates = []\n",
        "  for bucket in buckets:\n",
        "    for h in bucket.keys():\n",
        "      if len(bucket[h]) > 1:\n",
        "        for pair in combinations(bucket[h], 2):\n",
        "          candidates.append(pair)\n",
        "  return candidates"
      ],
      "metadata": {
        "id": "trrfBSTNO1g_"
      },
      "execution_count": null,
      "outputs": []
    },
    {
      "cell_type": "code",
      "source": [
        "candidates = sc.parallelize(find_candidates(bucks)).distinct()"
      ],
      "metadata": {
        "id": "DSaHPsbDP1Gk"
      },
      "execution_count": null,
      "outputs": []
    },
    {
      "cell_type": "markdown",
      "source": [
        "### Filter by the trashold"
      ],
      "metadata": {
        "id": "VuquqiijRwph"
      }
    },
    {
      "cell_type": "code",
      "source": [
        "vs = vecs.collect()\n",
        "\n",
        "def agree(x, y):\n",
        "  intersection = 0\n",
        "  for i, el in enumerate(x):\n",
        "    if(y[i] == el):\n",
        "      intersection += 1\n",
        "  return intersection / len(x)\n",
        "\n",
        "def compare(x, y):\n",
        "  vx = list(filter(lambda i: i[0]==x, vs))[0][1]\n",
        "  vy = list(filter(lambda i: i[0]==y, vs))[0][1]\n",
        "  return (x, y, agree(vx, vy))\n",
        "\n",
        "candidates_agr = candidates.map(lambda x: compare(x[0], x[1]))"
      ],
      "metadata": {
        "id": "ln9yaA8hI4U0"
      },
      "execution_count": null,
      "outputs": []
    },
    {
      "cell_type": "code",
      "source": [
        "filtered_candidates = candidates_agr.filter(lambda x: (x[2] > t)).collect()"
      ],
      "metadata": {
        "id": "1k7bvVjkK-Sx"
      },
      "execution_count": null,
      "outputs": []
    },
    {
      "cell_type": "markdown",
      "source": [
        "# *Evaluation*"
      ],
      "metadata": {
        "id": "yVJjtnmmjKF1"
      }
    },
    {
      "cell_type": "markdown",
      "source": [
        "## Jaccard similarity"
      ],
      "metadata": {
        "id": "8Q6_uc6XjXK_"
      }
    },
    {
      "cell_type": "code",
      "source": [
        "def jaccard(x, y):\n",
        "  xs = set(x)\n",
        "  xy = set(y)\n",
        "  intersection = len(xs.intersection(xy))\n",
        "  union = len(xs.union(xy))\n",
        "  if union == 0:\n",
        "    return 0\n",
        "  return intersection/union\n"
      ],
      "metadata": {
        "id": "XjinSO6uplVA"
      },
      "execution_count": null,
      "outputs": []
    },
    {
      "cell_type": "markdown",
      "source": [
        "##"
      ],
      "metadata": {
        "id": "qDtqYVWWjaxa"
      }
    },
    {
      "cell_type": "code",
      "source": [
        "texts = text_w_index.map(lambda x: (x[1], x[0])).collectAsMap()\n",
        "errors = []\n",
        "jac_values= []\n",
        "for i in filtered_candidates:\n",
        "  x = texts.get(i[0])\n",
        "  y = texts.get(i[1])\n",
        "  j = jaccard(tokenize_text(x),\n",
        "        tokenize_text(y))\n",
        "  errors.append(abs(i[2]-j))\n",
        "  jac_values.append(j)"
      ],
      "metadata": {
        "id": "9tUTDZiXp5xi"
      },
      "execution_count": null,
      "outputs": []
    },
    {
      "cell_type": "code",
      "source": [
        "correct = len([e for e in errors if e == 0])\n",
        "print(\"Mean error: \", round(sum(errors) / len(errors), 4))\n",
        "print(\"Jaccard similarity mean value: \",\n",
        "  round(sum(jac_values) / len(jac_values), 4))\n",
        "print(\"Correctness: \", round(correct/len(errors),4))"
      ],
      "metadata": {
        "colab": {
          "base_uri": "https://localhost:8080/"
        },
        "id": "bcOeWqewi6IC",
        "outputId": "ac2782a0-68fa-45f2-d28b-4046bfc7dfa5"
      },
      "execution_count": 61,
      "outputs": [
        {
          "output_type": "stream",
          "name": "stdout",
          "text": [
            "Mean error:  0.0174\n",
            "Jaccard similarity mean value:  0.9202\n",
            "Correctness:  0.3077\n"
          ]
        }
      ]
    }
  ]
}